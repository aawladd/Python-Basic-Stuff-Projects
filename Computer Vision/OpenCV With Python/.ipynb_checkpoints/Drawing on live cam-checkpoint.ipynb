{
 "cells": [
  {
   "cell_type": "code",
   "execution_count": 18,
   "metadata": {},
   "outputs": [
    {
     "name": "stdout",
     "output_type": "stream",
     "text": [
      "<class 'int'>\n"
     ]
    }
   ],
   "source": [
    "import cv2 \n",
    "\n",
    "cap = cv2.VideoCapture(0)\n",
    "\n",
    "width =int(cap.get(cv2.CAP_PROP_FRAME_WIDTH))\n",
    "height = int(cap.get(cv2.CAP_PROP_FRAME_HEIGHT))\n",
    "\n",
    "#top lect corner\n",
    "x = width // 2\n",
    "y = height // 2\n",
    "\n",
    "#width and height of the rectange\n",
    "w = width//4\n",
    "h = height//4\n",
    "print(type(x))\n",
    "\n",
    "while True:\n",
    "    \n",
    "    ret , frame = cap.read()\n",
    "    \n",
    "    cv2.rectangle(frame,(x,y),(x+w, y+h), color=(0,0,255), thickness = 4)\n",
    "    cv2.imshow('frame', frame)\n",
    "    \n",
    "    if cv2.waitKey(10) & 0xFF == ord('q'):\n",
    "        break\n",
    "cap.release()\n",
    "cv2.destroyAllWindows()"
   ]
  },
  {
   "cell_type": "code",
   "execution_count": 16,
   "metadata": {},
   "outputs": [],
   "source": [
    "xz = 10.0//2"
   ]
  },
  {
   "cell_type": "code",
   "execution_count": 17,
   "metadata": {},
   "outputs": [
    {
     "data": {
      "text/plain": [
       "float"
      ]
     },
     "execution_count": 17,
     "metadata": {},
     "output_type": "execute_result"
    }
   ],
   "source": [
    "type(xz)"
   ]
  },
  {
   "cell_type": "markdown",
   "metadata": {},
   "source": [
    "# Assesment"
   ]
  },
  {
   "cell_type": "code",
   "execution_count": 1,
   "metadata": {},
   "outputs": [],
   "source": [
    "import cv2\n",
    "\n",
    "def draw_circle(event, x,y, flags, pram):\n",
    "    global center, clicked\n",
    "    \n",
    "    if event == cv2.EVENT_LBUTTONDBLCLK:\n",
    "        center = (x,y)\n",
    "        clicked = True\n",
    "        \n",
    "    if event == cv2.EVENT_LBUTTONUP:\n",
    "        clicked = True\n",
    "        \n",
    "\n",
    "        \n",
    "center = (0, 0)\n",
    "clicked = False\n",
    "\n",
    "cap = cv2.VideoCapture(0)\n",
    "\n",
    "\n",
    "cv2.namedWindow('Test')\n",
    "\n",
    "\n",
    "cv2.setMouseCallback('Test', draw_circle)\n",
    "\n",
    "\n",
    "\n",
    "while True:\n",
    "    \n",
    "    ret, frame = cap.read()\n",
    "    \n",
    "    if clicked:\n",
    "        cv2.circle(frame, center = center, radius = 50, color = (255, 0, 0), thickness = 5)\n",
    "        \n",
    "        \n",
    "    cv2.imshow('Test', frame)\n",
    "    \n",
    "    if cv2.waitKey(1) & 0xFF == ord(q):\n",
    "        break\n",
    "        \n",
    "cap.release()\n",
    "cv2.destroyAllWindows()"
   ]
  },
  {
   "cell_type": "code",
   "execution_count": null,
   "metadata": {},
   "outputs": [],
   "source": []
  }
 ],
 "metadata": {
  "kernelspec": {
   "display_name": "Python 3",
   "language": "python",
   "name": "python3"
  },
  "language_info": {
   "codemirror_mode": {
    "name": "ipython",
    "version": 3
   },
   "file_extension": ".py",
   "mimetype": "text/x-python",
   "name": "python",
   "nbconvert_exporter": "python",
   "pygments_lexer": "ipython3",
   "version": "3.8.6"
  }
 },
 "nbformat": 4,
 "nbformat_minor": 4
}

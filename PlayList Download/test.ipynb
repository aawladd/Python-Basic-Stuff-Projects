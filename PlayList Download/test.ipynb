{
 "cells": [
  {
   "cell_type": "code",
   "execution_count": null,
   "metadata": {},
   "outputs": [],
   "source": [
    "import re\n",
    "from pytube import Playlist\n",
    "playlist = Playlist('https://youtube.com/playlist?list=PLoROMvodv4rPLKxIpqhjhPgdQy7imNkDn')   \n",
    "DOWNLOAD_DIR = 'Video'\n",
    "playlist._video_regex = re.compile(r\"\\\"url\\\":\\\"(/watch\\?v=[\\w-]*)\")    \n",
    "print(len(playlist.video_urls))    \n",
    "for url in playlist.video_urls:\n",
    "    print(url)    \n",
    "for video in playlist.videos:\n",
    "    print('downloading : {} with url : {}'.format(video.title, video.watch_url))\n",
    "    video.streams.\\\n",
    "        filter(type='video', progressive=True, file_extension='mp4').\\\n",
    "        order_by('resolution').\\\n",
    "        desc().\\\n",
    "        first().\\\n",
    "        download(DOWNLOAD_DIR)"
   ]
  }
 ],
 "metadata": {
  "kernelspec": {
   "display_name": "even",
   "language": "python",
   "name": "python3"
  },
  "language_info": {
   "name": "python",
   "version": "3.10.9"
  },
  "orig_nbformat": 4
 },
 "nbformat": 4,
 "nbformat_minor": 2
}
